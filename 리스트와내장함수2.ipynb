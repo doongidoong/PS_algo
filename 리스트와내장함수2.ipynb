{
 "cells": [
  {
   "cell_type": "code",
   "execution_count": 2,
   "metadata": {},
   "outputs": [
    {
     "name": "stdout",
     "output_type": "stream",
     "text": [
      "[23, 12, 36]\n",
      "[12, 36, 53]\n",
      "5\n"
     ]
    }
   ],
   "source": [
    "a = [23,12,36,53,19]\n",
    "\n",
    "print(a[:3])\n",
    "print(a[1:4])\n",
    "print(len(a))"
   ]
  },
  {
   "cell_type": "code",
   "execution_count": 5,
   "metadata": {},
   "outputs": [
    {
     "name": "stdout",
     "output_type": "stream",
     "text": [
      "12 36 \n"
     ]
    }
   ],
   "source": [
    "for i in range(len(a)):\n",
    "    if a[i] % 2 ==0:\n",
    "        print(a[i], end =' ')\n",
    "print()"
   ]
  },
  {
   "cell_type": "code",
   "execution_count": 13,
   "metadata": {},
   "outputs": [
    {
     "name": "stdout",
     "output_type": "stream",
     "text": [
      "(0, 23)\n",
      "(1, 12)\n",
      "(2, 36)\n",
      "(3, 53)\n",
      "(4, 19)\n",
      "0 23\n",
      "1 12\n",
      "2 36\n",
      "3 53\n",
      "4 19\n",
      "\n",
      "0 23\n",
      "1 12\n",
      "2 36\n",
      "3 53\n",
      "4 19\n"
     ]
    }
   ],
   "source": [
    "for x in enumerate(a): # 튜플로 대입\n",
    "    print(x)\n",
    "\n",
    "\"\"\" 리스트와 튜플의 차이 \n",
    "    튜플은 새로운 값으로 대입이 불가  a[0] = 7 (X)  \n",
    "    리스트는 변경이 가능  a[0] = 7\n",
    "\"\"\"\n",
    "\n",
    "for x in enumerate(a): # 튜플로 대입\n",
    "    print(x[0],x[1])\n",
    "print( )\n",
    "for index, value in enumerate(a):\n",
    "    print(index, value)\n"
   ]
  },
  {
   "cell_type": "code",
   "execution_count": 16,
   "metadata": {},
   "outputs": [
    {
     "name": "stdout",
     "output_type": "stream",
     "text": [
      "yes\n"
     ]
    }
   ],
   "source": [
    "if all(60>x for x in a): # 모두 참일 때 실행\n",
    "    print(\"yes\")\n",
    "else :\n",
    "    print(\"no\")\n"
   ]
  },
  {
   "cell_type": "code",
   "execution_count": 17,
   "metadata": {},
   "outputs": [
    {
     "name": "stdout",
     "output_type": "stream",
     "text": [
      "yes\n"
     ]
    }
   ],
   "source": [
    "if any(15>x for x in a): # 한개 이상이 참일 때 실행\n",
    "    print(\"yes\")\n",
    "else :\n",
    "    print(\"no\")\n"
   ]
  },
  {
   "cell_type": "code",
   "execution_count": 19,
   "metadata": {},
   "outputs": [
    {
     "name": "stdout",
     "output_type": "stream",
     "text": [
      "[0, 0, 0]\n"
     ]
    }
   ],
   "source": [
    "a = [0] * 3 \n",
    "print(a)"
   ]
  },
  {
   "cell_type": "code",
   "execution_count": 24,
   "metadata": {},
   "outputs": [
    {
     "name": "stdout",
     "output_type": "stream",
     "text": [
      "[[0, 1, 2], [0, 1, 2], [0, 1, 2]]\n"
     ]
    }
   ],
   "source": [
    "a = [ [x for x in range(3)] for _ in range(3)] # 리스트 컴프리헨션\n",
    "print(a)"
   ]
  },
  {
   "cell_type": "code",
   "execution_count": 27,
   "metadata": {},
   "outputs": [
    {
     "name": "stdout",
     "output_type": "stream",
     "text": [
      "[0, 1, 2]\n",
      "[0, 1, 2]\n",
      "[0, 1, 2]\n",
      "0 1 2 \n",
      "0 1 2 \n",
      "0 1 2 \n"
     ]
    }
   ],
   "source": [
    "for x in a:\n",
    "    print(x)\n",
    "for x in a:\n",
    "    for s in x:\n",
    "        print(s, end = \" \")\n",
    "    print()"
   ]
  },
  {
   "cell_type": "code",
   "execution_count": null,
   "metadata": {},
   "outputs": [],
   "source": []
  }
 ],
 "metadata": {
  "interpreter": {
   "hash": "7a695d8e24dc7cc701bc8852c5ba6314ed8789bc16da2b093cce5b569a3e12da"
  },
  "kernelspec": {
   "display_name": "Python 3.9.5 64-bit",
   "language": "python",
   "name": "python3"
  },
  "language_info": {
   "codemirror_mode": {
    "name": "ipython",
    "version": 3
   },
   "file_extension": ".py",
   "mimetype": "text/x-python",
   "name": "python",
   "nbconvert_exporter": "python",
   "pygments_lexer": "ipython3",
   "version": "3.9.5"
  },
  "orig_nbformat": 4
 },
 "nbformat": 4,
 "nbformat_minor": 2
}
