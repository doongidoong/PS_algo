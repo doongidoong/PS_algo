{
 "cells": [
  {
   "cell_type": "markdown",
   "metadata": {},
   "source": [
    "반복문을 이용한 문제풀이\n",
    "1) 1부터 n까지 홀수 출력\n",
    "2) 1부터 n까지 합 구하기\n",
    "3) n의 약수 출력하기"
   ]
  },
  {
   "cell_type": "code",
   "execution_count": 2,
   "metadata": {},
   "outputs": [
    {
     "name": "stdout",
     "output_type": "stream",
     "text": [
      "1\n",
      "3\n",
      "5\n",
      "7\n",
      "9\n",
      "11\n",
      "78\n",
      "1\n",
      "2\n",
      "3\n",
      "4\n",
      "6\n",
      "12\n"
     ]
    }
   ],
   "source": [
    "n = int(input())\n",
    "for i in range(1,n+1):\n",
    "    if i%2 == 1:\n",
    "        print(i)\n",
    "\n",
    "sumn =0\n",
    "\n",
    "for i in range(1,n+1):\n",
    "    sumn += i\n",
    "print(sumn)\n",
    "\n",
    "for i in range(1,n+1):\n",
    "    if n % i == 0:\n",
    "        print(i)\n"
   ]
  }
 ],
 "metadata": {
  "interpreter": {
   "hash": "7a695d8e24dc7cc701bc8852c5ba6314ed8789bc16da2b093cce5b569a3e12da"
  },
  "kernelspec": {
   "display_name": "Python 3.9.5 64-bit",
   "language": "python",
   "name": "python3"
  },
  "language_info": {
   "codemirror_mode": {
    "name": "ipython",
    "version": 3
   },
   "file_extension": ".py",
   "mimetype": "text/x-python",
   "name": "python",
   "nbconvert_exporter": "python",
   "pygments_lexer": "ipython3",
   "version": "3.9.5"
  },
  "orig_nbformat": 4
 },
 "nbformat": 4,
 "nbformat_minor": 2
}
