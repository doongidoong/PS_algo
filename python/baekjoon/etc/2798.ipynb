{
 "cells": [
  {
   "cell_type": "code",
   "execution_count": 38,
   "metadata": {},
   "outputs": [],
   "source": [
    "N, M = map(int, input().split())\n",
    "L = list(map(int,input().split()))\n",
    "combination=0 # 현재 조합\n",
    "bes_c = 0 # 제출할카드의 합\n",
    "for i in range(N):\n",
    "    for s in range(i+1,N):\n",
    "        for j in range(s+1,N):\n",
    "            combination= L[i]+L[s]+L[j]\n",
    "            if bes_c<combination and combination<=M:\n",
    "                bes_c=combination\n",
    "\n",
    "print(bes_c)"
   ]
  }
 ],
 "metadata": {
  "interpreter": {
   "hash": "38d51dd8e8d25c2b4859ddf5fde4d8615b38902fd48d30a19bf46ddb81d406a6"
  },
  "kernelspec": {
   "display_name": "Python 3.9.9 64-bit (windows store)",
   "language": "python",
   "name": "python3"
  },
  "language_info": {
   "codemirror_mode": {
    "name": "ipython",
    "version": 3
   },
   "file_extension": ".py",
   "mimetype": "text/x-python",
   "name": "python",
   "nbconvert_exporter": "python",
   "pygments_lexer": "ipython3",
   "version": "3.9.9"
  },
  "orig_nbformat": 4
 },
 "nbformat": 4,
 "nbformat_minor": 2
}
