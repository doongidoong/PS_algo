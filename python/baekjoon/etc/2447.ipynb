{
 "cells": [
  {
   "cell_type": "code",
   "execution_count": 157,
   "metadata": {},
   "outputs": [
    {
     "name": "stdout",
     "output_type": "stream",
     "text": [
      "*********\n",
      "* ** ** *\n",
      "*********\n",
      "***   ***\n",
      "* *   * *\n",
      "***   ***\n",
      "*********\n",
      "* ** ** *\n",
      "*********\n"
     ]
    }
   ],
   "source": [
    "def star(L):\n",
    "    arr = []\n",
    "    for i in range(3*len(L)):\n",
    "        if i//len(L) == 1:\n",
    "            arr.append(L[i%len(L)]+\" \"*len(L)+L[i%len(L)])\n",
    "        else:\n",
    "            arr.append(L[i%len(L)]*3)\n",
    "    return list(arr)\n",
    "\n",
    "n = int(input())\n",
    "L=['***', \"* *\", \"***\"]\n",
    "\n",
    "k=0\n",
    "while n!=1:\n",
    "    n = n/3\n",
    "    k+=1\n",
    "for i in range(k-1):\n",
    "    L = star(L)\n",
    "print(\"\\n\".join(L))"
   ]
  }
 ],
 "metadata": {
  "interpreter": {
   "hash": "38d51dd8e8d25c2b4859ddf5fde4d8615b38902fd48d30a19bf46ddb81d406a6"
  },
  "kernelspec": {
   "display_name": "Python 3.9.9 64-bit (windows store)",
   "language": "python",
   "name": "python3"
  },
  "language_info": {
   "codemirror_mode": {
    "name": "ipython",
    "version": 3
   },
   "file_extension": ".py",
   "mimetype": "text/x-python",
   "name": "python",
   "nbconvert_exporter": "python",
   "pygments_lexer": "ipython3",
   "version": "3.9.9"
  },
  "orig_nbformat": 4
 },
 "nbformat": 4,
 "nbformat_minor": 2
}
