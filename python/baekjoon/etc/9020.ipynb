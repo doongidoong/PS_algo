{
 "cells": [
  {
   "cell_type": "code",
   "execution_count": 17,
   "metadata": {},
   "outputs": [
    {
     "name": "stdout",
     "output_type": "stream",
     "text": [
      "3 5\n",
      "5 5\n",
      "5 11\n"
     ]
    }
   ],
   "source": [
    "# 내 답안 pypy3는 되지만 python3는 시간초과가 나옴\n",
    "# 문제 소수를 찾을 때마다 다시 처음부터 소수를 찾아야함.\n",
    "\n",
    "a = int(input())\n",
    "for i in range(a):\n",
    "    n = int(input())\n",
    "    startnum = round(n/2) \n",
    "    k=0\n",
    "    check= 0\n",
    "    for i in range(startnum, n):\n",
    "        for s in range(2,i):\n",
    "            if i%s==0:\n",
    "                check = 1\n",
    "            else:\n",
    "                k=i\n",
    "        if check==0:\n",
    "            for j in range(2,n-i):\n",
    "                if (n-i)%j==0:\n",
    "                    check=1\n",
    "        if check == 0:\n",
    "            print(n-i,i)\n",
    "            break\n",
    "        check=0"
   ]
  },
  {
   "cell_type": "code",
   "execution_count": 20,
   "metadata": {},
   "outputs": [
    {
     "name": "stdout",
     "output_type": "stream",
     "text": [
      "5 3\n",
      "5 5\n",
      "7 5\n"
     ]
    }
   ],
   "source": [
    "# 모범 답안\n",
    "sosu = [0 for i in range(10001)] # 일단 최대 범위값 까지 리스트를 만든다\n",
    "sosu[1] = 1\n",
    "for i in range(2, 98):\n",
    "    for j in range(i * 2, 10001, i): # 4부터 2씩 증가하여 2의 배수를 없애고, 6부터 3씩 증가하여 3의 배수를 없앤다.  \n",
    "        sosu[j] = 1\n",
    "t = int(input())\n",
    "for i in range(t):\n",
    "    a = int(input())\n",
    "    b = a // 2 # 시작하는 값은 a/2부터 시작한다.\n",
    "    for j in range(b, 1, -1): # b부터 1까지 가장 먼저 본인이 소수이고 주어진 값 - 본인이 소수인 숫자를 찾는다 \n",
    "        if sosu[a - j] == 0 and sosu[j] == 0: \n",
    "            print(j, a - j) \n",
    "            break # 찾으면 break\n"
   ]
  }
 ],
 "metadata": {
  "interpreter": {
   "hash": "38d51dd8e8d25c2b4859ddf5fde4d8615b38902fd48d30a19bf46ddb81d406a6"
  },
  "kernelspec": {
   "display_name": "Python 3.9.9 64-bit (windows store)",
   "language": "python",
   "name": "python3"
  },
  "language_info": {
   "codemirror_mode": {
    "name": "ipython",
    "version": 3
   },
   "file_extension": ".py",
   "mimetype": "text/x-python",
   "name": "python",
   "nbconvert_exporter": "python",
   "pygments_lexer": "ipython3",
   "version": "3.9.9"
  },
  "orig_nbformat": 4
 },
 "nbformat": 4,
 "nbformat_minor": 2
}
