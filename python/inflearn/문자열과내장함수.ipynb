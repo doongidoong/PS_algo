{
 "cells": [
  {
   "cell_type": "code",
   "execution_count": 1,
   "metadata": {},
   "outputs": [
    {
     "name": "stdout",
     "output_type": "stream",
     "text": [
      "IT IS TIME\n",
      "it is time\n",
      "It is Time\n"
     ]
    }
   ],
   "source": [
    "msg = \"It is Time\"\n",
    "print(msg.upper()) #대문자 통일\n",
    "print(msg.lower()) #소문자 통일\n",
    "print(msg)"
   ]
  },
  {
   "cell_type": "code",
   "execution_count": 5,
   "metadata": {},
   "outputs": [
    {
     "name": "stdout",
     "output_type": "stream",
     "text": [
      "IT IS TIME\n",
      "1\n",
      "2\n"
     ]
    }
   ],
   "source": [
    "tmp = msg.upper()\n",
    "\n",
    "print(tmp)\n",
    "print(tmp.find('T')) # 인덱스를 출력\n",
    "print(tmp.count('T')) # 인덱스 개수를 셈"
   ]
  },
  {
   "cell_type": "code",
   "execution_count": 10,
   "metadata": {},
   "outputs": [
    {
     "name": "stdout",
     "output_type": "stream",
     "text": [
      "It\n",
      "is\n",
      "10\n"
     ]
    }
   ],
   "source": [
    "print(msg[:2])\n",
    "print(msg[3:5])\n",
    "print(len(msg))"
   ]
  },
  {
   "cell_type": "code",
   "execution_count": 13,
   "metadata": {},
   "outputs": [
    {
     "name": "stdout",
     "output_type": "stream",
     "text": [
      "It is Time\n",
      "It is Time"
     ]
    }
   ],
   "source": [
    "for i in range(len(msg)):\n",
    "    print(msg[i], end= '')\n",
    "print()\n",
    "for i in msg:\n",
    "    print(i, end= '')"
   ]
  },
  {
   "cell_type": "code",
   "execution_count": 17,
   "metadata": {},
   "outputs": [
    {
     "name": "stdout",
     "output_type": "stream",
     "text": [
      "I T t i s i m e "
     ]
    }
   ],
   "source": [
    "for x in msg:\n",
    "    if x.isupper():\n",
    "        print(x,end = ' ')\n",
    "for x in msg:\n",
    "    if x.islower():\n",
    "        print(x,end = ' ')"
   ]
  },
  {
   "cell_type": "code",
   "execution_count": 21,
   "metadata": {},
   "outputs": [
    {
     "name": "stdout",
     "output_type": "stream",
     "text": [
      "65\n",
      "A\n",
      "90\n",
      "Z\n"
     ]
    }
   ],
   "source": [
    "tmp = 'AZ'\n",
    "for x in tmp:\n",
    "    print(ord(x))\n",
    "    print(chr(ord(x)))"
   ]
  }
 ],
 "metadata": {
  "interpreter": {
   "hash": "7a695d8e24dc7cc701bc8852c5ba6314ed8789bc16da2b093cce5b569a3e12da"
  },
  "kernelspec": {
   "display_name": "Python 3.9.5 64-bit",
   "language": "python",
   "name": "python3"
  },
  "language_info": {
   "codemirror_mode": {
    "name": "ipython",
    "version": 3
   },
   "file_extension": ".py",
   "mimetype": "text/x-python",
   "name": "python",
   "nbconvert_exporter": "python",
   "pygments_lexer": "ipython3",
   "version": "3.9.5"
  },
  "orig_nbformat": 4
 },
 "nbformat": 4,
 "nbformat_minor": 2
}
