{
 "cells": [
  {
   "cell_type": "code",
   "execution_count": 71,
   "metadata": {},
   "outputs": [
    {
     "name": "stdout",
     "output_type": "stream",
     "text": [
      "12\n"
     ]
    }
   ],
   "source": [
    "N,M = map(int, input().split())\n",
    "#L = list(input().split())\n",
    "L=[]\n",
    "for i in range(N):\n",
    "    row = input()\n",
    "    L.append(row)\n",
    "\n",
    "arr_answer =[]\n",
    "for i in range(N-7):\n",
    "    for j in range(M-7):\n",
    "        answer =0\n",
    "        whitecase = 0 # starting point가 white case\n",
    "        blackcase = 0 # starting point가 black case\n",
    "        for v in range(i,i+8):\n",
    "            for h in range(j,j+8):\n",
    "                if (v+h)%2 == 0 :\n",
    "                    if L[v][h] != \"B\":\n",
    "                        blackcase+=1\n",
    "                    if L[v][h] != \"W\":\n",
    "                        whitecase+=1\n",
    "        for v in range(i,i+8):\n",
    "            for h in range(j,j+8):\n",
    "                if (v+h)%2 == 1 :\n",
    "                    if L[v][h] != \"W\":\n",
    "                        blackcase+=1\n",
    "                    if L[v][h] != \"B\":\n",
    "                        whitecase+=1\n",
    "        arr_answer.append(min(whitecase,blackcase))\n",
    "print(min(arr_answer))\n"
   ]
  }
 ],
 "metadata": {
  "interpreter": {
   "hash": "38d51dd8e8d25c2b4859ddf5fde4d8615b38902fd48d30a19bf46ddb81d406a6"
  },
  "kernelspec": {
   "display_name": "Python 3.9.9 64-bit (windows store)",
   "language": "python",
   "name": "python3"
  },
  "language_info": {
   "codemirror_mode": {
    "name": "ipython",
    "version": 3
   },
   "file_extension": ".py",
   "mimetype": "text/x-python",
   "name": "python",
   "nbconvert_exporter": "python",
   "pygments_lexer": "ipython3",
   "version": "3.9.9"
  },
  "orig_nbformat": 4
 },
 "nbformat": 4,
 "nbformat_minor": 2
}
