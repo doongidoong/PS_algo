{
 "cells": [
  {
   "cell_type": "code",
   "execution_count": 2,
   "metadata": {},
   "outputs": [
    {
     "name": "stdout",
     "output_type": "stream",
     "text": [
      "11111"
     ]
    }
   ],
   "source": [
    "N = int(input())\n",
    "person =list(range(N))\n",
    "for i in range(N):\n",
    "    person[i] = list(map(int,input().split()))\n",
    "rank = list(range(N))\n",
    "order= 0\n",
    "while order<N :\n",
    "    bigger =1\n",
    "    compare = person[order]\n",
    "    for i in range(N):\n",
    "        if compare[0]<person[i][0] and compare[1]<person[i][1]:\n",
    "            bigger +=1\n",
    "    rank[order] =bigger\n",
    "    order +=1\n",
    "for i in rank:\n",
    "    print(i,end=\" \")"
   ]
  }
 ],
 "metadata": {
  "interpreter": {
   "hash": "38d51dd8e8d25c2b4859ddf5fde4d8615b38902fd48d30a19bf46ddb81d406a6"
  },
  "kernelspec": {
   "display_name": "Python 3.9.9 64-bit (windows store)",
   "language": "python",
   "name": "python3"
  },
  "language_info": {
   "codemirror_mode": {
    "name": "ipython",
    "version": 3
   },
   "file_extension": ".py",
   "mimetype": "text/x-python",
   "name": "python",
   "nbconvert_exporter": "python",
   "pygments_lexer": "ipython3",
   "version": "3.9.9"
  },
  "orig_nbformat": 4
 },
 "nbformat": 4,
 "nbformat_minor": 2
}
