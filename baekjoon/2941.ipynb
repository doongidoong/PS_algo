{
 "cells": [
  {
   "cell_type": "code",
   "execution_count": null,
   "metadata": {},
   "outputs": [],
   "source": [
    "n = input()\n",
    "k=0\n",
    "L = ['c=','c-','dz=','d-','lj','nj','s=','z=']\n",
    "for i in L:\n",
    "    if i in n:\n",
    "        n=n.replace(i,\"1\")\n",
    "k=len(n)\n",
    "print(k)"
   ]
  }
 ],
 "metadata": {
  "language_info": {
   "name": "python"
  },
  "orig_nbformat": 4
 },
 "nbformat": 4,
 "nbformat_minor": 2
}
