{
 "cells": [
  {
   "cell_type": "code",
   "execution_count": 60,
   "metadata": {},
   "outputs": [
    {
     "name": "stdout",
     "output_type": "stream",
     "text": [
      "3\n"
     ]
    }
   ],
   "source": [
    "n= int(input())\n",
    "\n",
    "answer=0\n",
    "for i in range(n):\n",
    "    check =0\n",
    "    L=[]\n",
    "    s1 = input()\n",
    "    for i in range(len(s1)):\n",
    "        if s1[i] in L :\n",
    "            if s1[i-1]!=s1[i]:\n",
    "                check=1\n",
    "                break \n",
    "        L.append(s1[i])\n",
    "    if check == 0:\n",
    "        answer +=1\n",
    "print(answer)   "
   ]
  },
  {
   "cell_type": "code",
   "execution_count": null,
   "metadata": {},
   "outputs": [],
   "source": [
    "# 이전 답안\n",
    "s = int(input())\n",
    "checksum=0\n",
    "for i in range(s):\n",
    "    n= input()\n",
    "    L=[]\n",
    "    check=0\n",
    "    for i in range(1,len(n)):\n",
    "        L.append(n[i-1])\n",
    "        if n[i] in L:\n",
    "            if n[i]==n[i-1]:\n",
    "                continue\n",
    "            else:\n",
    "                check=1\n",
    "    checksum+=check\n",
    "print(int(s)-checksum)"
   ]
  }
 ],
 "metadata": {
  "interpreter": {
   "hash": "38d51dd8e8d25c2b4859ddf5fde4d8615b38902fd48d30a19bf46ddb81d406a6"
  },
  "kernelspec": {
   "display_name": "Python 3.9.9 64-bit (windows store)",
   "language": "python",
   "name": "python3"
  },
  "language_info": {
   "codemirror_mode": {
    "name": "ipython",
    "version": 3
   },
   "file_extension": ".py",
   "mimetype": "text/x-python",
   "name": "python",
   "nbconvert_exporter": "python",
   "pygments_lexer": "ipython3",
   "version": "3.9.9"
  },
  "orig_nbformat": 4
 },
 "nbformat": 4,
 "nbformat_minor": 2
}
