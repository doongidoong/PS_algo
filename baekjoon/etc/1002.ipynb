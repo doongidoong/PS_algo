{
 "cells": [
  {
   "cell_type": "code",
   "execution_count": null,
   "metadata": {},
   "outputs": [],
   "source": [
    "n = int(input())\n",
    "for i in range(n):\n",
    "    x1, y1, r1, x2, y2, r2 = map(int,input().split())\n",
    "    temp=0\n",
    "    d = ((x1-x2)**2 + (y1-y2)**2)**0.5 # 원점 사이의 거리\n",
    "    if r1 > r2:\n",
    "        temp = r1\n",
    "        r1 = r2\n",
    "        r2= temp\n",
    "    if (x1,y1,r1) ==(x2,y2,r2) : # 원이 일치  \n",
    "        print(-1)\n",
    "    elif d == (r1 + r2) or d == (r2-r1): # 내접 외접\n",
    "        print(1)\n",
    "    elif d >(r2 -r1) and d< (r1+r2) : # 두 점에서 만남\n",
    "        print(2) \n",
    "    else: # 그 외\n",
    "        print(0)\n"
   ]
  }
 ],
 "metadata": {
  "language_info": {
   "name": "python"
  },
  "orig_nbformat": 4
 },
 "nbformat": 4,
 "nbformat_minor": 2
}
