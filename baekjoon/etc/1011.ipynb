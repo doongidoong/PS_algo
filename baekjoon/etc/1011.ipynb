{
 "cells": [
  {
   "cell_type": "code",
   "execution_count": 361,
   "metadata": {},
   "outputs": [
    {
     "name": "stdout",
     "output_type": "stream",
     "text": [
      "9\n"
     ]
    }
   ],
   "source": [
    "n = int(input())\n",
    "for i in range(n):\n",
    "    a, b = map(int, input().split())\n",
    "    distance = b-a  # 두 점 사이의 거리\n",
    "    max_num = 1 # 몇 번의 이동으로 도달할 수 있는 최대값 \n",
    "    repeat = 1 # 1,1/ 2,2/ 3,3/ 4,4 와 같이 일정한 주기로 이동값이 반복되므로 이를 계산할 값\n",
    "    move =1 # 이동값\n",
    "    while distance > max_num: # 이동 값에 따른 최대 가능한 수가 거리를 초과하거나 같아졌을 때 break\n",
    "        max_num += repeat # 반복횟수에 따른 가능한 값을 구한다. 예를 들어 반복 횟수가 2일 경우 같은 이동값이 2번 반복되므로 최대 가능값은 2 증가한다.     \n",
    "        move+=1 # 이동값 증가\n",
    "        if move%2 ==0: # 이동값이 1인 경우가 1번, 2인 경우가 1번/ 3인 경우가 2번,4도 2번/ 5는 3번,6도 3번 \n",
    "                    # 이런 식으로 두 번 주기로 반복된다 그러므로 이동값이 2번 증가할 때마다 반복되는 횟수가 증가한다.   \n",
    "            repeat +=1  \n",
    "    print(move) # 거리에 해당하는 이동값 출력"
   ]
  },
  {
   "cell_type": "code",
   "execution_count": 359,
   "metadata": {},
   "outputs": [
    {
     "name": "stdout",
     "output_type": "stream",
     "text": [
      "3\n",
      "3\n",
      "4\n"
     ]
    }
   ],
   "source": [
    "\"\"\"시간초과 답안\"\"\"\n",
    "n = int(input())\n",
    "for i in range(n):\n",
    "    a,b = map(int, input().split())\n",
    "    distance = b-a\n",
    "    num = 2\n",
    "    repeat=0\n",
    "    move = 2\n",
    "    check =2\n",
    "    if distance < num:\n",
    "        print(distance)\n",
    "    else:\n",
    "        while num<distance:\n",
    "            num +=1 \n",
    "            repeat+=1\n",
    "            if repeat % check==1 :\n",
    "                move+=1\n",
    "            if (repeat//check) == 2:\n",
    "                check+=1\n",
    "                repeat=0 \n",
    "        print(move)"
   ]
  }
 ],
 "metadata": {
  "interpreter": {
   "hash": "38d51dd8e8d25c2b4859ddf5fde4d8615b38902fd48d30a19bf46ddb81d406a6"
  },
  "kernelspec": {
   "display_name": "Python 3.9.9 64-bit (windows store)",
   "language": "python",
   "name": "python3"
  },
  "language_info": {
   "codemirror_mode": {
    "name": "ipython",
    "version": 3
   },
   "file_extension": ".py",
   "mimetype": "text/x-python",
   "name": "python",
   "nbconvert_exporter": "python",
   "pygments_lexer": "ipython3",
   "version": "3.9.9"
  },
  "orig_nbformat": 4
 },
 "nbformat": 4,
 "nbformat_minor": 2
}
